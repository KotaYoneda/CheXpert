{
 "cells": [
  {
   "cell_type": "code",
   "execution_count": 1,
   "metadata": {
    "id": "Qatb8SMq_MjS"
   },
   "outputs": [],
   "source": [
    "import numpy as np\n",
    "import pandas as pd\n",
    "import os\n",
    "from PIL import Image\n",
    "import h5py"
   ]
  },
  {
   "cell_type": "code",
   "execution_count": 2,
   "metadata": {
    "id": "ziRPUSTpSjYd"
   },
   "outputs": [],
   "source": [
    "DATA_PATH = '../data'\n",
    "TRAIN_VALID_PATH = os.path.join(DATA_PATH, 'CheXpert-v1.0-small', 'train.csv')\n",
    "TEST_PATH = os.path.join(DATA_PATH, 'CheXpert-v1.0-small', 'valid.csv')\n",
    "H5_PATH = os.path.join(DATA_PATH, 'chexpert.h5')"
   ]
  },
  {
   "cell_type": "code",
   "execution_count": null,
   "metadata": {
    "id": "1RECddOYSlNl"
   },
   "outputs": [],
   "source": [
    "full_train_valid_df = pd.read_csv(TRAIN_VALID_PATH)\n",
    "full_test_df = pd.read_csv(TEST_PATH)\n",
    "\n",
    "with h5py.File(H5_PATH, 'w') as h5:\n",
    "    \n",
    "    train_valid_group = h5.create_group('train_valid')\n",
    "    for _, row in full_train_valid_df.iterrows():\n",
    "        path = row.Path\n",
    "        image_path = os.path.join(DATA_PATH, path)\n",
    "        image = np.array(Image.open(image_path)).astype(np.uint8)\n",
    "        train_valid_group.create_dataset(name=path, data=image, compression='gzip')\n",
    "        \n",
    "    test_group = h5.create_group('test')\n",
    "    for _, row in full_test_df.iterrows():\n",
    "        path = row.Path\n",
    "        image_path = os.path.join(DATA_PATH, path)\n",
    "        image = np.array(Image.open(image_path)).astype(np.uint8)\n",
    "        test_group.create_dataset(name=path, data=image, compression='gzip')"
   ]
  },
  {
   "cell_type": "code",
   "execution_count": null,
   "metadata": {
    "colab": {
     "base_uri": "https://localhost:8080/",
     "height": 34
    },
    "id": "snmCGbRAfJAr",
    "outputId": "9825eea2-3c64-462a-f5e9-d7a8f4f04b7b"
   },
   "outputs": [],
   "source": [
    "image_path = 'CheXpert-v1.0-small/train/patient00001/study1/view1_frontal.jpg'\n",
    "\n",
    "with h5py.File(H5_PATH, 'r') as h5:\n",
    "    image_array = h5[os.path.join('train_valid', image_path)][()]\n",
    "\n",
    "image = Image.fromarray(image_array).convert('RGB')\n",
    "print(image.size)\n",
    "image"
   ]
  },
  {
   "cell_type": "code",
   "execution_count": null,
   "metadata": {
    "id": "oXOhrjvLfxZw"
   },
   "outputs": [],
   "source": []
  }
 ],
 "metadata": {
  "colab": {
   "collapsed_sections": [],
   "name": "chexpert_hdf5.ipynb",
   "provenance": [],
   "toc_visible": true
  },
  "kernelspec": {
   "display_name": "Python 3",
   "language": "python",
   "name": "python3"
  },
  "language_info": {
   "codemirror_mode": {
    "name": "ipython",
    "version": 3
   },
   "file_extension": ".py",
   "mimetype": "text/x-python",
   "name": "python",
   "nbconvert_exporter": "python",
   "pygments_lexer": "ipython3",
   "version": "3.8.2"
  }
 },
 "nbformat": 4,
 "nbformat_minor": 1
}